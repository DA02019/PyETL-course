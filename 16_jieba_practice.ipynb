{
 "cells": [
  {
   "cell_type": "code",
   "execution_count": 1,
   "id": "b371c061",
   "metadata": {},
   "outputs": [],
   "source": [
    "import jieba"
   ]
  },
  {
   "cell_type": "code",
   "execution_count": 2,
   "id": "afad27f0",
   "metadata": {},
   "outputs": [],
   "source": [
    "s = \"大家好我叫小賀，今天來中壢AI大數據班上課，學習網路爬蟲\""
   ]
  },
  {
   "cell_type": "code",
   "execution_count": 3,
   "id": "666acfc5",
   "metadata": {},
   "outputs": [
    {
     "data": {
      "text/plain": [
       "<generator object Tokenizer.cut at 0x0000023E521EB7B0>"
      ]
     },
     "execution_count": 3,
     "metadata": {},
     "output_type": "execute_result"
    }
   ],
   "source": [
    "jieba.cut(s, cut_all=True)"
   ]
  },
  {
   "cell_type": "code",
   "execution_count": 4,
   "id": "e2d5fa1f",
   "metadata": {},
   "outputs": [
    {
     "name": "stderr",
     "output_type": "stream",
     "text": [
      "Building prefix dict from the default dictionary ...\n",
      "Loading model from cache C:\\Users\\TIBAME~1\\AppData\\Local\\Temp\\jieba.cache\n",
      "Loading model cost 0.300 seconds.\n",
      "Prefix dict has been built successfully.\n"
     ]
    },
    {
     "name": "stdout",
     "output_type": "stream",
     "text": [
      "大家\n",
      "好\n",
      "我\n",
      "叫\n",
      "小\n",
      "賀\n",
      "，\n",
      "今天\n",
      "來\n",
      "中\n",
      "壢\n",
      "AI\n",
      "大\n",
      "數\n",
      "據\n",
      "班上\n",
      "課\n",
      "，\n",
      "學\n",
      "習\n",
      "網\n",
      "路\n",
      "爬\n",
      "蟲\n"
     ]
    }
   ],
   "source": [
    "word_gen = jieba.cut(s, cut_all=True)\n",
    "for w in word_gen:\n",
    "    print(w)"
   ]
  },
  {
   "cell_type": "code",
   "execution_count": 5,
   "id": "bd58189c",
   "metadata": {},
   "outputs": [],
   "source": [
    "for w in word_gen:\n",
    "    print(w)"
   ]
  },
  {
   "cell_type": "code",
   "execution_count": 6,
   "id": "68dc3dcb",
   "metadata": {},
   "outputs": [
    {
     "name": "stdout",
     "output_type": "stream",
     "text": [
      "大家\n",
      "好\n",
      "我\n",
      "叫\n",
      "小賀\n",
      "，\n",
      "今天\n",
      "來\n",
      "中壢\n",
      "AI\n",
      "大數據\n",
      "班上\n",
      "課\n",
      "，\n",
      "學習\n",
      "網路\n",
      "爬蟲\n"
     ]
    }
   ],
   "source": [
    "word_gen = jieba.cut(s, cut_all=False)\n",
    "for w in word_gen:\n",
    "    print(w)"
   ]
  },
  {
   "cell_type": "code",
   "execution_count": 7,
   "id": "5dbec11b",
   "metadata": {},
   "outputs": [
    {
     "name": "stdout",
     "output_type": "stream",
     "text": [
      "大家\n",
      "好\n",
      "我\n",
      "叫\n",
      "小賀\n",
      "，\n",
      "今天\n",
      "來\n",
      "中壢\n",
      "AI\n",
      "大數據\n",
      "班上\n",
      "課\n",
      "，\n",
      "學習\n",
      "網路\n",
      "爬蟲\n"
     ]
    }
   ],
   "source": [
    "word_gen = jieba.cut(s)\n",
    "for w in word_gen:\n",
    "    print(w)"
   ]
  },
  {
   "cell_type": "code",
   "execution_count": 8,
   "id": "665cf60d",
   "metadata": {},
   "outputs": [
    {
     "name": "stdout",
     "output_type": "stream",
     "text": [
      "大家\n",
      "好\n",
      "我\n",
      "叫\n",
      "小賀\n",
      "，\n",
      "今天\n",
      "來\n",
      "中壢\n",
      "AI\n",
      "大數據\n",
      "班上\n",
      "課\n",
      "，\n",
      "學習\n",
      "網路\n",
      "爬蟲\n"
     ]
    }
   ],
   "source": [
    "word_gen = jieba.cut_for_search(s)\n",
    "for w in word_gen:\n",
    "    print(w)"
   ]
  },
  {
   "cell_type": "code",
   "execution_count": 8,
   "id": "3eb97154",
   "metadata": {},
   "outputs": [
    {
     "data": {
      "text/plain": [
       "'大家|好|我|叫|小賀|，|今天|來|中壢|AI|大數據|班上|課|，|學習|網路|爬蟲'"
      ]
     },
     "execution_count": 8,
     "metadata": {},
     "output_type": "execute_result"
    }
   ],
   "source": [
    "\"|\".join(jieba.cut(s))"
   ]
  },
  {
   "cell_type": "code",
   "execution_count": 9,
   "id": "425e1976",
   "metadata": {},
   "outputs": [],
   "source": [
    "jieba.load_userdict(\"./mydict.txt\")"
   ]
  },
  {
   "cell_type": "code",
   "execution_count": 10,
   "id": "c2053d61",
   "metadata": {},
   "outputs": [
    {
     "data": {
      "text/plain": [
       "'大家|好|我|叫|小賀|，|今天|來|中壢|AI大數據班|上課|，|學習|網路爬蟲'"
      ]
     },
     "execution_count": 10,
     "metadata": {},
     "output_type": "execute_result"
    }
   ],
   "source": [
    "\"|\".join(jieba.cut(s))"
   ]
  },
  {
   "cell_type": "code",
   "execution_count": null,
   "id": "4146e7be",
   "metadata": {},
   "outputs": [],
   "source": []
  }
 ],
 "metadata": {
  "kernelspec": {
   "display_name": "Python 3 (ipykernel)",
   "language": "python",
   "name": "python3"
  },
  "language_info": {
   "codemirror_mode": {
    "name": "ipython",
    "version": 3
   },
   "file_extension": ".py",
   "mimetype": "text/x-python",
   "name": "python",
   "nbconvert_exporter": "python",
   "pygments_lexer": "ipython3",
   "version": "3.8.10"
  }
 },
 "nbformat": 4,
 "nbformat_minor": 5
}
